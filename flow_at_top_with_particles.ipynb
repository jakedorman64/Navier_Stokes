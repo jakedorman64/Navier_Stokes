{
 "cells": [
  {
   "cell_type": "code",
   "execution_count": 33,
   "metadata": {},
   "outputs": [],
   "source": [
    "from navier_stokes_2D import progress_timestep, progress_timestep_with_particles\n",
    "import jax.numpy as jnp\n",
    "import matplotlib.pyplot as plt\n",
    "import math\n",
    "import jax.config as config\n",
    "\n",
    "import imageio"
   ]
  },
  {
   "cell_type": "code",
   "execution_count": 34,
   "metadata": {},
   "outputs": [],
   "source": [
    "\"\"\"Determine Constants.\"\"\"\n",
    "\n",
    "TIMESTEPS = 5000000\n",
    "NUM_POINTS = 64    # How many points to split x and y axis into. This should be odd to make parameter comparisons later.\n",
    "dt = 0.0001        # Thie size of the timesteps.\n",
    "\n",
    "IMAGE_SCALAR = math.ceil(NUM_POINTS / 32)     # This is used to ensure the output images aren't too dense, so they can actually be made out. \n",
    "\n",
    "element_length = 1 / (NUM_POINTS - 1)   # The distance between points on the x and y axis.\n",
    "    \n",
    "\"\"\"Define the Initial and Boundary Conditions.\"\"\"\n",
    "\n",
    "# Make a meshgrid to create our domain.\n",
    "x = jnp.linspace(0, 1, NUM_POINTS)      \n",
    "y = jnp.linspace(0, 1, NUM_POINTS)\n",
    "\n",
    "X, Y = jnp.meshgrid(x, y)\n",
    "\n",
    "# Define the boundary conditions.\n",
    "u_bound = jnp.zeros_like(X)\n",
    "v_bound = jnp.zeros_like(X)\n",
    "u_bound = u_bound.at[-1, :].set(1)\n",
    "\n",
    "# Define the initial conditions. \n",
    "u_prev = jnp.zeros_like(X)\n",
    "v_prev = jnp.zeros_like(X)\n",
    "p_prev = jnp.zeros_like(X)\n",
    "\n",
    "x_prev = jnp.array([0.25, 0.75])\n",
    "y_prev = jnp.array([0.25, 0.75])\n",
    "\n",
    "dx_dt_prev = jnp.zeros_like(x_prev)\n",
    "dy_dt_prev = jnp.zeros_like(x_prev)"
   ]
  },
  {
   "cell_type": "code",
   "execution_count": 35,
   "metadata": {},
   "outputs": [
    {
     "ename": "KeyboardInterrupt",
     "evalue": "",
     "output_type": "error",
     "traceback": [
      "\u001b[1;31m---------------------------------------------------------------------------\u001b[0m",
      "\u001b[1;31mKeyboardInterrupt\u001b[0m                         Traceback (most recent call last)",
      "Cell \u001b[1;32mIn[35], line 4\u001b[0m\n\u001b[0;32m      1\u001b[0m \u001b[39m\"\"\"Run training loop and save images.\"\"\"\u001b[39;00m\n\u001b[0;32m      2\u001b[0m \u001b[39mfor\u001b[39;00m i \u001b[39min\u001b[39;00m \u001b[39mrange\u001b[39m(TIMESTEPS):\n\u001b[0;32m      3\u001b[0m     \u001b[39m# update the velocities and pressure.\u001b[39;00m\n\u001b[1;32m----> 4\u001b[0m     u_prev, v_prev, p_prev, x_prev, y_prev, dx_dt_prev, dy_dt_prev \u001b[39m=\u001b[39m progress_timestep_with_particles(u_prev, v_prev, p_prev, x_prev, \n\u001b[0;32m      5\u001b[0m                                                                                                       y_prev, dx_dt_prev, dy_dt_prev, \n\u001b[0;32m      6\u001b[0m                                                                                                       u_bound, v_bound, element_length,    \n\u001b[0;32m      7\u001b[0m                                                                                                       drag_constant\u001b[39m=\u001b[39;49m\u001b[39m9999999\u001b[39;49m, dt\u001b[39m=\u001b[39;49mdt, density\u001b[39m=\u001b[39;49m\u001b[39m1.\u001b[39;49m, \n\u001b[0;32m      8\u001b[0m                                                                                                       viscosity\u001b[39m=\u001b[39;49m\u001b[39m0.1\u001b[39;49m, jacobi_iterations\u001b[39m=\u001b[39;49m\u001b[39m50\u001b[39;49m)\n\u001b[0;32m     10\u001b[0m     \u001b[39m# Print an image of the current state every 10000 timesteps. \u001b[39;00m\n\u001b[0;32m     11\u001b[0m     \u001b[39mif\u001b[39;00m i \u001b[39m%\u001b[39m \u001b[39m100\u001b[39m \u001b[39m==\u001b[39m \u001b[39m0\u001b[39m:\n",
      "\u001b[1;31mKeyboardInterrupt\u001b[0m: "
     ]
    }
   ],
   "source": [
    "\"\"\"Run training loop and save images.\"\"\"\n",
    "for i in range(TIMESTEPS):\n",
    "    # update the velocities and pressure.\n",
    "    u_prev, v_prev, p_prev, x_prev, y_prev, dx_dt_prev, dy_dt_prev = progress_timestep_with_particles(u_prev, v_prev, p_prev, x_prev, \n",
    "                                                                                                      y_prev, dx_dt_prev, dy_dt_prev, \n",
    "                                                                                                      u_bound, v_bound, element_length,    \n",
    "                                                                                                      drag_constant=99999999, dt=dt, density=1., \n",
    "                                                                                                      viscosity=0.1, jacobi_iterations=50)\n",
    "    \n",
    "    # Print an image of the current state every 10000 timesteps. \n",
    "    if i % 100 == 0:\n",
    "\n",
    "        plt.figure()\n",
    "        plt.contourf(X[::IMAGE_SCALAR, ::IMAGE_SCALAR], Y[::IMAGE_SCALAR, ::IMAGE_SCALAR], p_prev[::IMAGE_SCALAR, ::IMAGE_SCALAR], 100, cmap=\"coolwarm\")\n",
    "        plt.scatter(x_prev, y_prev)\n",
    "        plt.colorbar()\n",
    "\n",
    "        plt.quiver(X[::IMAGE_SCALAR, ::IMAGE_SCALAR], Y[::IMAGE_SCALAR, ::IMAGE_SCALAR], u_prev[::IMAGE_SCALAR, ::IMAGE_SCALAR], v_prev[::IMAGE_SCALAR, ::IMAGE_SCALAR])\n",
    "\n",
    "        plt.savefig(f'img_{int(i/100)}.png',\n",
    "                  transparent = False,  \n",
    "                  facecolor = 'white'\n",
    "                )\n",
    "        plt.close()"
   ]
  },
  {
   "cell_type": "code",
   "execution_count": 20,
   "metadata": {},
   "outputs": [],
   "source": [
    "\"\"\"Make images into a gif.\"\"\"\n",
    "frames = []\n",
    "for i in range(100):\n",
    "  image = imageio.v2.imread(f'img_{int(i)}.png')\n",
    "  frames.append(image)\n",
    "\n",
    "imageio.mimsave('./example.gif', # output gif\n",
    "                frames,          # array of input frames\n",
    "                duration=0.4)         # optional: frames per second \"\"\""
   ]
  },
  {
   "cell_type": "code",
   "execution_count": null,
   "metadata": {},
   "outputs": [],
   "source": []
  }
 ],
 "metadata": {
  "kernelspec": {
   "display_name": "navier_stokes",
   "language": "python",
   "name": "python3"
  },
  "language_info": {
   "codemirror_mode": {
    "name": "ipython",
    "version": 3
   },
   "file_extension": ".py",
   "mimetype": "text/x-python",
   "name": "python",
   "nbconvert_exporter": "python",
   "pygments_lexer": "ipython3",
   "version": "3.9.17"
  },
  "orig_nbformat": 4
 },
 "nbformat": 4,
 "nbformat_minor": 2
}
