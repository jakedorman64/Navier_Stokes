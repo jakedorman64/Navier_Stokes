{
  "nbformat": 4,
  "nbformat_minor": 0,
  "metadata": {
    "colab": {
      "provenance": [],
      "authorship_tag": "ABX9TyOX88+vIVtqDDMnFVbDpDMa",
      "include_colab_link": true
    },
    "kernelspec": {
      "name": "python3",
      "display_name": "Python 3"
    },
    "language_info": {
      "name": "python"
    }
  },
  "cells": [
    {
      "cell_type": "markdown",
      "metadata": {
        "id": "view-in-github",
        "colab_type": "text"
      },
      "source": [
        "<a href=\"https://colab.research.google.com/github/jakedorman64/Navier_Stokes/blob/main/Navier_Stokes_Solver_JAX_2D.ipynb\" target=\"_parent\"><img src=\"https://colab.research.google.com/assets/colab-badge.svg\" alt=\"Open In Colab\"/></a>"
      ]
    },
    {
      "cell_type": "markdown",
      "source": [
        "# Navier-Stokes Solver #\n",
        "\n",
        "The Navier-Stokes Equations are:\n",
        "$$ \\frac{d\\textbf{u}}{dt} + (\\textbf{u} \\cdot \\nabla ) \\textbf{u} = - \\frac{1}{\\rho} \\nabla p + \\nu \\nabla^2 \\textbf{u} + \\textbf{f} $$\n",
        "$$ \\nabla \\cdot \\textbf{u} = 0 $$\n",
        "\n",
        "\n",
        "Where:\n",
        "\n",
        "*   $\\rho$ is density,\n",
        "\n",
        "*   $\\textbf{u}$ is velocity,\n",
        "*   $p$ is pressure,\n",
        "*   $\\nu$ is kinematic viscosity,\n",
        "*   $\\textbf{f}$ is the sum of all external forces.\n",
        "\n",
        "We cannot use the standard Euler's method for numerically solving ODE's because this will not ensure that the second equation is fulfilled, i.e. that the divergence of the velocity is 0. Using the standard Euler Method also does not give an equation to update the pressure.\n",
        "\n",
        "Instead, we update the the velocities and pressure using the following scheme:\n",
        "\n",
        "1.   Find an intermidiate velocity $ \\textbf{u}^* $ from the first Navier-Stokes Equation using: $$ \\textbf{u}^* = \\textbf{u}^n  - dt (\\textbf{u}^n \\cdot \\nabla  ) \\textbf{u}^n + dt \\, \\nu \\nabla^2 \\textbf{u}^n + dt \\,\\textbf{f}^{\\,n} $$\n",
        "2.   Solve the following equation for pressure: $$ \\nabla^2 p^{n+1}  = \\frac{\\rho}{dt} \\nabla \\cdot \\textbf{u}^*. $$ For this, we can use standard numerical methods, i.e. Euler's method.\n",
        "3.   Update velocity using: $$ \\textbf{u}^{n+1} = \\textbf{u}^* - \\frac{dt}{\\rho} \\nabla p^{n+1} $$\n",
        "\n",
        "Where $ \\textbf{f}^{\\, n} $ is the external force at time $t_n,$ which evolves independently of the state of our simulation.\n",
        "\n",
        "The derivation of this approach is in section 2.1 [here](http://hplgit.github.io/INF5620/doc/pub/main_ns.pdf).\n",
        "\n",
        "Step 1 and 3 can be solved directly, by substituting the values from the previous step into the current step. Step 2 requires the use of a Jacobi Iterative Procedure as described [here](https://people.eecs.berkeley.edu/~demmel/cs267/lecture24/lecture24.html).\n",
        "\n",
        "The boundary conditions for the velocity are Dirichlet Boundaries, meaning that the velocities at the perimeter of the box are known and unchanging. This represents the 'no slip' condition of viscous fluids.\n",
        "\n",
        "Since we assume the box does not expand under pressure, the pressure on the inside edge of the boundary must be equal to the pressure on the outside at all times. Thus, the gradient of the pressure at the boundary must be 0. This is a Neumann Boundary Condition."
      ],
      "metadata": {
        "id": "adOmiOVclynM"
      }
    },
    {
      "cell_type": "code",
      "execution_count": 17,
      "metadata": {
        "id": "hVAv2n87kOao"
      },
      "outputs": [],
      "source": [
        "import jax.random as random\n",
        "import jax.numpy as jnp\n",
        "import numpy as np\n",
        "from jax import jit\n",
        "import matplotlib.pyplot as plt\n",
        "import time"
      ]
    },
    {
      "cell_type": "code",
      "source": [
        "\"\"\"\n",
        "CONSTANTS.\n",
        "\n",
        "  [+] N_POINTS: The number of points we will split our axis into in each direction. I.e, for N_POINTS = 4, our grid will be:\n",
        "\n",
        "                  0 _ _ 1\n",
        "               0  + + + +\n",
        "               |  + + + +\n",
        "               |  + + + +\n",
        "               1  + + + +\n",
        "\n",
        "  [+] dt: the size of our time intervals.\n",
        "  [+] TIMESTEPS: How many timesteps to solve for. Hence, the total length of time in the future that we solve for is dt * TIMESTEPS\n",
        "  [+] VISCOSITY: The viscosity of our fluid.\n",
        "  [+] DENSITY: The density of ther fluid.\n",
        "  [+] JACOBI_ITERATIONS: How many Jacobi Iterations to use to solve for the pressure.\n",
        "  [+] ELEMENT_LENGTH: The distance between consecutive points in the grid.\n",
        "\n",
        "\"\"\"\n",
        "\n",
        "N_POINTS = 256\n",
        "dt = 0.00001\n",
        "TIMESTEPS = 10000\n",
        "VISCOSITY = 0.1\n",
        "DENSITY = 0.1\n",
        "JACOBI_ITERATIONS = 50\n",
        "\n",
        "ELEMENT_LENGTH = 1 / (N_POINTS - 1)"
      ],
      "metadata": {
        "id": "N31FZ0YLp2xy"
      },
      "execution_count": 18,
      "outputs": []
    },
    {
      "cell_type": "markdown",
      "source": [
        "## Define Initial Conditions"
      ],
      "metadata": {
        "id": "Ts3NDoOmpuiL"
      }
    },
    {
      "cell_type": "code",
      "source": [
        "# All of this code is provided by Niall Jeffrey, to create a 2D Divergence Free Vector Field to use as the initial conditions for the vle\n",
        "\n",
        "# This is the function that generates our divergence free vector field for the velocity.\n",
        "\n",
        "def k2g_fft(kE, kB, dx, pad=True):\n",
        "    \"\"\"\n",
        "    Convert kappa to gamma in Fourier space. If padding is\n",
        "    set to True, include the same size of padding as the data\n",
        "    on each side, the total grid is 9 times the original.\n",
        "    \"\"\"\n",
        "\n",
        "    if pad:\n",
        "        kE_temp = np.zeros((len(kE)*3, len(kE[0])*3))\n",
        "        kB_temp = np.zeros((len(kB)*3, len(kE[0])*3))\n",
        "        kE_temp[len(kE):len(kE)*2, len(kE[0]):len(kE[0])*2] = kE*1.0\n",
        "        kB_temp[len(kB):len(kB)*2, len(kB[0]):len(kB[0])*2] = kB*1.0\n",
        "        kE_3d_ft = np.fft.fft2(kE_temp)\n",
        "        kB_3d_ft = np.fft.fft2(kB_temp)\n",
        "    else:\n",
        "        kE_3d_ft = np.fft.fft2(kE)\n",
        "        kB_3d_ft = np.fft.fft2(kB)\n",
        "\n",
        "    FF1 = np.fft.fftfreq(len(kE_3d_ft))\n",
        "    FF2 = np.fft.fftfreq(len(kE_3d_ft[0]))\n",
        "\n",
        "    dk = 1.0/dx*2*np.pi                     # max delta_k in 1/arcmin\n",
        "    kx = np.dstack(np.meshgrid(FF2, FF1))[:,:,0]*dk\n",
        "    ky = np.dstack(np.meshgrid(FF2, FF1))[:,:,1]*dk\n",
        "    kx2 = kx**2\n",
        "    ky2 = ky**2\n",
        "    k2 = kx2 + ky2\n",
        "\n",
        "    k2[k2==0] = 1e-15\n",
        "    k2gamma1_ft = kE_3d_ft/k2*(kx2-ky2) - kB_3d_ft/k2*2*(kx*ky)\n",
        "    k2gamma2_ft = kE_3d_ft/k2*2*(kx*ky) + kB_3d_ft/k2*(kx2-ky2)\n",
        "\n",
        "    if pad:\n",
        "        return np.fft.ifft2(k2gamma1_ft).real[len(kE):len(kE)*2, len(kE[0]):len(kE[0])*2], np.fft.ifft2(k2gamma2_ft).real[len(kE):len(kE)*2, len(kE[0]):len(kE[0])*2]\n",
        "    else:\n",
        "        return np.fft.ifft2(k2gamma1_ft).real, np.fft.ifft2(k2gamma2_ft).real\n",
        "\n",
        "def compute_spectrum_map(power1d,size):\n",
        "    \"\"\"\n",
        "    takes 1D power spectrum and makes it an isotropic 2D map\n",
        "    :param power: 1d power spectrum\n",
        "    :param size:\n",
        "    :return:\n",
        "    \"\"\"\n",
        "\n",
        "    power_map = np.zeros((size, size), dtype = float)\n",
        "    k_map =  np.zeros((size, size), dtype = float)\n",
        "\n",
        "    for (i,j), val in np.ndenumerate(power_map):\n",
        "\n",
        "        k1 = i - size/2.0\n",
        "        k2 = j - size/2.0\n",
        "        k_map[i, j] = (np.sqrt(k1*k1 + k2*k2))\n",
        "\n",
        "        if k_map[i,j] == 0:\n",
        "            power_map[i, j] = 1e-15\n",
        "        else:\n",
        "            power_map[i, j] = power1d[int(k_map[i, j])]\n",
        "\n",
        "    return power_map\n",
        "\n",
        "\n",
        "\n",
        "def gaussian_mock(spectrum_map_flat_sqrt,image_size):\n",
        "    gaussian_field = np.random.normal(0, spectrum_map_flat_sqrt) + 1j*np.random.normal(0, spectrum_map_flat_sqrt)\n",
        "    gaussian_field = np.fft.ifft2(np.fft.fftshift(gaussian_field.reshape((image_size,image_size)))).imag\n",
        "    return gaussian_field\n",
        "\n",
        "karray = np.arange(N_POINTS)\n",
        "pk = np.exp(-karray * karray / 5)\n",
        "\n",
        "spectrum_map = compute_spectrum_map(pk, N_POINTS)\n",
        "\n",
        "field = gaussian_mock(spectrum_map.flatten(), N_POINTS).T"
      ],
      "metadata": {
        "id": "BfYKGTB1d74O"
      },
      "execution_count": 19,
      "outputs": []
    },
    {
      "cell_type": "code",
      "source": [
        "# The domain of the grid will be [0, 1] x [0, 1], split into N_POINTS x N_POINTS individual points.\n",
        "x = jnp.linspace(0.0, 1, N_POINTS)\n",
        "y = jnp.linspace(0.0, 1, N_POINTS)\n",
        "\n",
        "X, Y = jnp.meshgrid(x, y)\n",
        "\n",
        "# To make the initial velocities, call upon the function to generate a divergence free field, to satisfy the second Navier-Stokes Equation.\n",
        "u_init, v_init = k2g_fft(field*0, field, dx=1, pad=False)\n",
        "\n",
        "# The pressures at each point can be generated from a normal distribution. A pressure value must be generated for each point in the domain.\n",
        "key = random.PRNGKey(int(time.time()))\n",
        "p_init = 0.1 * random.normal(key=key, shape=X.shape)"
      ],
      "metadata": {
        "id": "0Iftm8yiA9uO"
      },
      "execution_count": null,
      "outputs": []
    },
    {
      "cell_type": "markdown",
      "source": [
        "## Define the Derivative Functions\n",
        ""
      ],
      "metadata": {
        "id": "oTQ6zZQduoUQ"
      }
    },
    {
      "cell_type": "markdown",
      "source": [
        "The derivatives are defined using a finite difference method, meaning if the grid is:\n",
        "\n",
        "          (i-1, j-1), (i, j-1), (i+1, j-1)\n",
        "           (i-1, j),   (i, j),   (i+1, j)\n",
        "          (i-1, j+1), (i, j+1), (i+1, j+1)\n",
        "\n",
        "If $\\epsilon$ is the ELEMENT_LENGTH, the first derivatives are defined as:\n",
        "\n",
        "$$ \\begin{align} \\frac{d}{dx}f(i, j) & = \\frac{f(i+1, j) - f(i-1,j)}{2 \\epsilon} \\\\ \\frac{d}{dy}f(i, j) & = \\frac{f(i, j+1) - f(i,j-1)}{2 \\epsilon} \\end{align} $$\n",
        "\n",
        "The second derivatives are defined as:\n",
        "\n",
        "$$ \\begin{align} \\frac{d^2}{dx^2}f(i, j) & = \\frac{f(i+1, j) + f(i-1,j) - 2 f(i, j)}{\\epsilon^2}  \\\\ \\frac{d^2}{dy^2}f(i, j) & = \\frac{f(i, j+1) + f(i,j-1) - 2 f(i, j)}{\\epsilon^2} \\end{align} $$\n",
        "\n",
        "The Laplacian function can be defined using the sum of the second central differences, but explicitly this gives:\n",
        "\n",
        "$$ \\nabla^2 f(i, j) = \\frac{f(i,j-1) + f(i, j+1) + f(i+1, j) + f(i-1, j) - 4 f(i, j)}{\\epsilon^2}. $$\n",
        "\n",
        "Due to the Dirichlet Boundary Conditions, the derivatives on the perimeter will always be 0 as these points are unchanging. Hence, the derivatives on the boundaries are always 0."
      ],
      "metadata": {
        "id": "W-bKMwFe9Emw"
      }
    },
    {
      "cell_type": "code",
      "source": [
        "@jit\n",
        "def d_dx(f):\n",
        "  diff = jnp.zeros_like(f)\n",
        "  diff[1:-1, 1:-1] = (f[1:-1, 2:  ] - f[1:-1, 0:-2] ) / ( 2 * ELEMENT_LENGTH)\n",
        "  return diff\n",
        "\n",
        "@jit\n",
        "def d_dy(f):\n",
        "  diff = jnp.zeros_like(f)\n",
        "  diff[1:-1, 1:-1] = (f[2:, 1:-1  ] - f[0:-2, 1:-1] ) / ( 2 * ELEMENT_LENGTH)\n",
        "  return diff\n",
        "\n",
        "@jit\n",
        "def d2_dx2(f):\n",
        "  diff = jnp.zeros_like(f)\n",
        "  diff[1:-1, 1:-1] = (f[1:-1, 2:  ] - 2 * f[1:-1, 1:-1] + f[1:-1, 0:-2] ) / (ELEMENT_LENGTH**2)\n",
        "  return diff\n",
        "\n",
        "@jit\n",
        "def d2_dy2(f):\n",
        "  diff = jnp.zeros_like(f)\n",
        "  diff[1:-1, 1:-1] = (f[1:-1, 2:  ] - 2 * f[1:-1, 1:-1] + f[1:-1, 0:-2] ) / (ELEMENT_LENGTH**2)\n",
        "  return diff\n",
        "\n",
        "@jit\n",
        "def laplacian(f):\n",
        "  return d2_dx2(f) + d2_dy2(f)"
      ],
      "metadata": {
        "id": "lMvBf_lHrSTF"
      },
      "execution_count": 28,
      "outputs": []
    },
    {
      "cell_type": "markdown",
      "source": [
        "## Step 1: Intermediate Velocity"
      ],
      "metadata": {
        "id": "rwNPF5fS9KVo"
      }
    },
    {
      "cell_type": "markdown",
      "source": [
        "The intermediate velocity is: $$ \\textbf{u}^* = \\textbf{u}^n  - dt (\\textbf{u}^n \\cdot \\nabla  ) \\textbf{u}^n + dt \\, \\nu \\nabla^2 \\textbf{u}^n $$\n",
        "Writing this out in terms of our individual components $u$ and $v$ gives:\n",
        "$$ \\begin{align} u^* & = u - dt \\left( u \\frac{\\partial u}{\\partial x} + v \\frac{ \\partial u}{\\partial y} \\right) + dt \\, \\nu \\nabla^2 u \\\\ v^* & = v - dt \\left( u \\frac{\\partial v}{\\partial x} + v \\frac{ \\partial v}{\\partial y} \\right) + dt \\, \\nu \\nabla^2 v \\end{align} $$"
      ],
      "metadata": {
        "id": "1pazhPiN9uVa"
      }
    },
    {
      "cell_type": "code",
      "source": [
        "@jit\n",
        "def u_intermediate(u, v):\n",
        "  return u - dt * (jnp.multiply(u, d_dx(u)) + jnp.multiply(v, d_dy(u))) + dt * DENSITY * laplacian(u)\n",
        "\n",
        "@jit\n",
        "def v_intermediate(u, v):\n",
        "  return v - dt * (np.multiply(u, d_dx(v)) + np.multiply(v, d_dy(v))) + dt * DENSITY * laplacian(v)"
      ],
      "metadata": {
        "id": "GeCvsbqz89QJ"
      },
      "execution_count": null,
      "outputs": []
    },
    {
      "cell_type": "markdown",
      "source": [
        "## Step 2: Pressure"
      ],
      "metadata": {
        "id": "0LVjQtR894nV"
      }
    },
    {
      "cell_type": "markdown",
      "source": [
        "The equation for updating pressure is:\n",
        "$$ \\nabla^2 p^{n+1}  = \\frac{\\rho}{dt} \\nabla \\cdot \\textbf{u}^*. $$\n",
        "Also recall that our 5 point estimate\n",
        " for the Laplacian is:\n",
        "$$ \\nabla^2 p(0, 0) = \\frac{p(0,-1) + p(0, 1) + p(1, 0) + p(-1, 0) - 4 p(0, 0)}{\\epsilon^2} $$\n",
        "Substituting this into tyhe equation for pressure and rearranging gives:\n",
        "$$ p(0,0) = \\frac{1}{4} \\left(p(0,-1) + p(0, 1) + p(1, 0) + p(-1, 0) - \\epsilon^2 \\frac{\\rho}{dt} \\nabla \\cdot \\textbf{u}^*(0, 0) \\right) $$\n",
        "\n",
        "Which is an estimate for pressure at each point. This formula can be used reccursively to find the pressure more accurately at each time step. This is the Jacobi method for estimating the pressure."
      ],
      "metadata": {
        "id": "MrtUsHNH98Mr"
      }
    },
    {
      "cell_type": "code",
      "source": [
        "def p_update(u, v, p_prev):\n",
        "  # Define the right hand side of the pressure equation.\n",
        "  rhs = DENSITY / dt * (d_dx(u) + d_dy(v))\n",
        "\n",
        "  for i in range(JACOBI_ITERATIONS):\n",
        "    p_next = np.zeros_like(p_prev)\n",
        "\n",
        "    # Add all of the previous pressure terms.\n",
        "    p_next[1:-1, 1:-1] = 0.25 * (p_prev[1:-1,2: ] + p_prev[1:-1, 0:-2] + p_prev[2:, 1:-1] + p_prev[0:-2, 1:-1] - ELEMENT_LENGTH**2 * rhs[1:-1,1:-1]) #Interior vertical points.\n",
        "\n",
        "    # Fix the boundary conditions. These are Neumann, i.e the gradient is fixed, so the pressures at this point will just be equal to the pressure next to it.\n",
        "    p_next[:, -1] = p_next[:, -2]\n",
        "    p_next[0,  :] = p_next[1,  :]\n",
        "    p_next[:,  0] = p_next[:,  1]\n",
        "    p_next[-1, :] = p_next[-2, :]\n",
        "\n",
        "    p_prev = p_next\n",
        "\n",
        "  return p_prev"
      ],
      "metadata": {
        "id": "VGqJP95j97RK"
      },
      "execution_count": null,
      "outputs": []
    }
  ]
}